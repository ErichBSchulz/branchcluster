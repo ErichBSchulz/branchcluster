{
 "cells": [
  {
   "cell_type": "code",
   "execution_count": null,
   "metadata": {},
   "outputs": [],
   "source": [
    "# Grouping of similar objects (unsupervised learning)\n",
    "\n",
    "intro = \"\"\"\n",
    "Cluster analysis, or clustering, is an unsupervised machine learning task.\n",
    "\n",
    "It involves automatically discovering natural grouping in data. Unlike supervised learning (like predictive modeling), \n",
    "clustering algorithms only interpret the input data and find natural groups or clusters in feature spa\n",
    "\n",
    "\"\"\"\n",
    "from io import StringIO\n",
    "import datetime"
   ]
  },
  {
   "cell_type": "code",
   "execution_count": null,
   "metadata": {},
   "outputs": [],
   "source": [
    "import pandas as pd\n",
    "import sklearn\n",
    "print(sklearn.__version__)"
   ]
  },
  {
   "cell_type": "code",
   "execution_count": null,
   "metadata": {},
   "outputs": [],
   "source": [
    "import requests\n",
    "key='1j5mQjg9FlUS_KtOozhBWeT6R_oMbmKkpHaYzkyXy3X8'\n",
    "sheet_name='1855953019'\n",
    "url=f\"https://docs.google.com/spreadsheets/d/{key}/export?gid={sheet_name}&format=csv\"\n",
    "response = requests.get(url)\n",
    "assert response.status_code == 200, 'Wrong status code'\n",
    "f=response.content\n",
    "\n",
    "print(f\"read {len(f)} bytes\")\n",
    "df = pd.read_csv(StringIO(f.decode('UTF-8')), skiprows=4)\n",
    "df =(\n",
    "    df.drop(df.columns[df.columns.str.contains('Unnamed')], axis=1)\n",
    "    .dropna(subset=['BRANCH'])\n",
    "    .query(\"BRANCH.str.contains('Branch')\", engine='python')\n",
    "    .assign(BRANCH = lambda df: df['BRANCH'].astype(str).str[:-7])\n",
    ")\n",
    "df.to_csv(f'pos.{datetime.datetime.now().strftime(\"%Y%m%d.%H%M%S\")}.csv')"
   ]
  },
  {
   "cell_type": "code",
   "execution_count": null,
   "metadata": {},
   "outputs": [],
   "source": [
    "f='pos.20210823.101703.csv'\n",
    "df = pd.read_csv(f, index_col=0)"
   ]
  },
  {
   "cell_type": "code",
   "execution_count": null,
   "metadata": {},
   "outputs": [],
   "source": [
    "print(len(df.index), 'branches:\\n', list(df.BRANCH))\n",
    "print(\"Motions under consideration:\\n\", list(df.columns[1:]))"
   ]
  },
  {
   "cell_type": "code",
   "execution_count": null,
   "metadata": {},
   "outputs": [],
   "source": []
  },
  {
   "cell_type": "code",
   "execution_count": null,
   "metadata": {},
   "outputs": [],
   "source": [
    "rmap  = dict(zip(\n",
    "    sorted(list(pd.unique(df[df.columns[1:]].values.ravel('K')))),\n",
    "    [0,1,0,0, -1,-1,0,0]))\n",
    "rmap"
   ]
  },
  {
   "cell_type": "code",
   "execution_count": null,
   "metadata": {},
   "outputs": [],
   "source": [
    "df.replace(rmap, inplace=True)\n",
    "df"
   ]
  },
  {
   "cell_type": "code",
   "execution_count": null,
   "metadata": {},
   "outputs": [],
   "source": [
    "from sklearn.cluster import KMeans\n",
    "X = df[df.columns[1:]]\n",
    "km = KMeans(n_clusters=3)\n",
    "km.fit(X)\n",
    "km.predict(X)\n",
    "df['cluster']= km.labels_"
   ]
  },
  {
   "cell_type": "code",
   "execution_count": null,
   "metadata": {},
   "outputs": [],
   "source": [
    "from sklearn.mixture import GaussianMixture\n",
    "gmm = GaussianMixture(n_components=3)\n",
    "gmm.fit(X)\n",
    "#df['prob'] = \n",
    "df.append = gmm.predict_proba(X)"
   ]
  },
  {
   "cell_type": "code",
   "execution_count": null,
   "metadata": {},
   "outputs": [],
   "source": [
    "# df.sort_values(['cluster', 'BRANCH']).query('cluster < 3')[['BRANCH','cluster']]"
   ]
  },
  {
   "cell_type": "code",
   "execution_count": null,
   "metadata": {},
   "outputs": [],
   "source": [
    "from sklearn.decomposition import PCA\n",
    "pca = PCA(n_components=2)\n",
    "principalComponents = pca.fit_transform(X)"
   ]
  },
  {
   "cell_type": "code",
   "execution_count": null,
   "metadata": {},
   "outputs": [],
   "source": [
    "from sklearn.manifold import TSNE\n",
    "import matplotlib\n",
    "import matplotlib.pyplot as plt\n",
    "matplotlib.rcParams['figure.figsize'] = [10,8]\n",
    "x_axis = principalComponents[:, 0]\n",
    "y_axis = principalComponents[:, 1]\n",
    "fig, ax = plt.subplots()\n",
    "ax.scatter(x_axis, y_axis, c=df.cluster)\n",
    "for i, txt in enumerate(df.BRANCH):\n",
    "    ax.annotate(txt, (x_axis[i], y_axis[i]))"
   ]
  },
  {
   "cell_type": "code",
   "execution_count": null,
   "metadata": {},
   "outputs": [],
   "source": [
    "pca = PCA(n_components=3)\n",
    "pcs = pca.fit_transform(X)\n",
    "matplotlib.rcParams['figure.figsize'] = [10,8]\n",
    "x_axis = pcs[:, 0]+5\n",
    "y_axis = pcs[:, 1]+5\n",
    "z_axis = pcs[:, 2]+5"
   ]
  },
  {
   "cell_type": "code",
   "execution_count": null,
   "metadata": {},
   "outputs": [],
   "source": [
    "from mpl_toolkits.mplot3d import Axes3D\n",
    "from pylab import figure\n",
    "from matplotlib import pyplot\n",
    "\n",
    "fig = figure()\n",
    "ax = Axes3D(fig)\n",
    "for i, txt in enumerate(df.BRANCH):\n",
    "    ax.scatter(x_axis[i], y_axis[i], z_axis[i], c=['b', 'g', 'r'][df.cluster[i]])\n",
    "    ax.text(x_axis[i], y_axis[i], z_axis[i],  \"\".join([word[0] for word in txt.split()]), size=10, zorder=1)\n",
    "pyplot.show()"
   ]
  },
  {
   "cell_type": "code",
   "execution_count": null,
   "metadata": {},
   "outputs": [],
   "source": []
  },
  {
   "cell_type": "code",
   "execution_count": null,
   "metadata": {},
   "outputs": [],
   "source": []
  }
 ],
 "metadata": {
  "kernelspec": {
   "display_name": "Python 3",
   "language": "python",
   "name": "python3"
  },
  "language_info": {
   "codemirror_mode": {
    "name": "ipython",
    "version": 3
   },
   "file_extension": ".py",
   "mimetype": "text/x-python",
   "name": "python",
   "nbconvert_exporter": "python",
   "pygments_lexer": "ipython3",
   "version": "3.8.5"
  }
 },
 "nbformat": 4,
 "nbformat_minor": 4
}
